{
 "cells": [
  {
   "cell_type": "markdown",
   "id": "ebaac154",
   "metadata": {},
   "source": [
    "1. Write a Python program to convert kilometers to miles?"
   ]
  },
  {
   "cell_type": "code",
   "execution_count": 2,
   "id": "bd753f0f",
   "metadata": {},
   "outputs": [
    {
     "name": "stdout",
     "output_type": "stream",
     "text": [
      "Enter: 2\n",
      "2.00 Kilometers is equal to 1.24 miles\n"
     ]
    }
   ],
   "source": [
    "# User input in Kilometers\n",
    "km = float(input(\"Enter: \"))\n",
    "\n",
    "# Introducing the conversion factor\n",
    "con_factor = 0.62137119\n",
    "\n",
    "# Calculating miles\n",
    "miles = km*con_factor\n",
    "\n",
    "print('%0.2f Kilometers is equal to %0.2f miles' %(km,miles))"
   ]
  },
  {
   "cell_type": "markdown",
   "id": "d6f357b9",
   "metadata": {},
   "source": [
    "2.\tWrite a Python program to convert Celsius to Fahrenheit?"
   ]
  },
  {
   "cell_type": "code",
   "execution_count": 4,
   "id": "4558cdd1",
   "metadata": {},
   "outputs": [
    {
     "name": "stdout",
     "output_type": "stream",
     "text": [
      "Enter: 35\n",
      "35.00 degree Celsius is equal to 95.00 degree Fahrenheit\n"
     ]
    }
   ],
   "source": [
    "# User input in Celcius\n",
    "Cel = float(input(\"Enter: \"))\n",
    "\n",
    "# Calculating Fahrenheit\n",
    "Fah = (Cel*1.8)+32\n",
    "\n",
    "print(\"%0.2f degree Celsius is equal to %0.2f degree Fahrenheit\" %(Cel,Fah))"
   ]
  },
  {
   "cell_type": "markdown",
   "id": "2de1a61c",
   "metadata": {},
   "source": [
    "3.\tWrite a Python program to display calendar?"
   ]
  },
  {
   "cell_type": "code",
   "execution_count": 25,
   "id": "574d7b01",
   "metadata": {},
   "outputs": [
    {
     "name": "stdout",
     "output_type": "stream",
     "text": [
      "Enter year: 2022\n",
      "Enter month: 8\n",
      "    August 2022\n",
      "Mo Tu We Th Fr Sa Su\n",
      " 1  2  3  4  5  6  7\n",
      " 8  9 10 11 12 13 14\n",
      "15 16 17 18 19 20 21\n",
      "22 23 24 25 26 27 28\n",
      "29 30 31\n",
      "\n"
     ]
    }
   ],
   "source": [
    "# Importing calender module\n",
    "import calendar\n",
    "\n",
    "yy = int(input(\"Enter year: \"))\n",
    "mm = int(input(\"Enter month: \"))\n",
    "\n",
    "print(calendar.month(yy,mm))"
   ]
  },
  {
   "cell_type": "markdown",
   "id": "43fdbc78",
   "metadata": {},
   "source": [
    "4.\tWrite a Python program to solve quadratic equation?"
   ]
  },
  {
   "cell_type": "code",
   "execution_count": 19,
   "id": "e7b3cc5c",
   "metadata": {},
   "outputs": [
    {
     "name": "stdout",
     "output_type": "stream",
     "text": [
      "The solutions are (-1-1.4142135623730951j) and (-1+1.4142135623730951j)\n"
     ]
    }
   ],
   "source": [
    "import cmath\n",
    "\n",
    "a = 1 \n",
    "b = 2 \n",
    "c = 3\n",
    "\n",
    "# Calculating the discriminant\n",
    "d = (b**2) - (4*a*c)\n",
    "\n",
    "# finding two solutions\n",
    "s1 = (-b-cmath.sqrt(d))/(2*a)\n",
    "s2 = (-b+cmath.sqrt(d))/(2*a)\n",
    "\n",
    "print('The solutions are {0} and {1}'.format(s1,s2))"
   ]
  },
  {
   "cell_type": "markdown",
   "id": "b4435261",
   "metadata": {},
   "source": [
    "5.\tWrite a Python program to swap two variables without temp variable?"
   ]
  },
  {
   "cell_type": "code",
   "execution_count": 27,
   "id": "32daf564",
   "metadata": {},
   "outputs": [
    {
     "name": "stdout",
     "output_type": "stream",
     "text": [
      "Before swapping value of x is  5  and value of y is  10\n",
      "After swapping value of x is  10  and value of y is  5\n"
     ]
    }
   ],
   "source": [
    "x = 5  # x = 0101\n",
    "y = 10 # y = 1010\n",
    " \n",
    "print(\"Before swapping value of x is \", x, \" and value of y is \", y)\n",
    " \n",
    "x, y = y, x\n",
    " \n",
    "print(\"After swapping value of x is \", x, \" and value of y is \", y)"
   ]
  }
 ],
 "metadata": {
  "kernelspec": {
   "display_name": "Python 3 (ipykernel)",
   "language": "python",
   "name": "python3"
  },
  "language_info": {
   "codemirror_mode": {
    "name": "ipython",
    "version": 3
   },
   "file_extension": ".py",
   "mimetype": "text/x-python",
   "name": "python",
   "nbconvert_exporter": "python",
   "pygments_lexer": "ipython3",
   "version": "3.9.12"
  }
 },
 "nbformat": 4,
 "nbformat_minor": 5
}
