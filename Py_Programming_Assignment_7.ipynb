{
 "cells": [
  {
   "cell_type": "markdown",
   "id": "2814fc6a",
   "metadata": {},
   "source": [
    "# 1.\tWrite a Python Program to find sum of array?"
   ]
  },
  {
   "cell_type": "code",
   "execution_count": 4,
   "id": "3ef7ed40",
   "metadata": {},
   "outputs": [
    {
     "name": "stdout",
     "output_type": "stream",
     "text": [
      "Enter n : 4\n",
      "2\n",
      "3\n",
      "4\n",
      "5\n",
      "sum is 14\n"
     ]
    }
   ],
   "source": [
    "l = []\n",
    "n = int(input(\"Enter n : \"))\n",
    "\n",
    "for i in range(0,n):\n",
    "    l.append(int(input()))\n",
    "    \n",
    "sum = 0\n",
    "for e in l:\n",
    "    sum = sum + e\n",
    "    \n",
    "print(\"sum is\",sum)"
   ]
  },
  {
   "cell_type": "markdown",
   "id": "fa112cec",
   "metadata": {},
   "source": [
    "# 2.\tWrite a Python Program to find largest element in an array?"
   ]
  },
  {
   "cell_type": "code",
   "execution_count": 8,
   "id": "53b699f0",
   "metadata": {},
   "outputs": [
    {
     "name": "stdout",
     "output_type": "stream",
     "text": [
      "Enter n : 4\n",
      "2\n",
      "3\n",
      "4\n",
      "5\n",
      "largest element is 5\n"
     ]
    }
   ],
   "source": [
    "l = []\n",
    "n = int(input(\"Enter n : \"))\n",
    "\n",
    "for i in range(0,n):\n",
    "    l.append(int(input()))\n",
    "\n",
    "print(\"largest element is\",max(l))"
   ]
  },
  {
   "cell_type": "markdown",
   "id": "e1a9576e",
   "metadata": {},
   "source": [
    "# 3.\tWrite a Python Program for array rotation?"
   ]
  },
  {
   "cell_type": "code",
   "execution_count": 15,
   "id": "c8f7de30",
   "metadata": {},
   "outputs": [
    {
     "name": "stdout",
     "output_type": "stream",
     "text": [
      "Enter n : 5\n",
      "2\n",
      "3\n",
      "4\n",
      "5\n",
      "6\n",
      "Array after left rotation is:  [4, 5, 6, 2, 3]\n"
     ]
    }
   ],
   "source": [
    "def rotArr(l, n, d):\n",
    "    temp = []\n",
    "    i = 0\n",
    "    while (i < d):\n",
    "        temp.append(l[i])\n",
    "        i = i + 1\n",
    "    i = 0\n",
    "    while (d < n):\n",
    "        l[i] = l[d]\n",
    "        i = i + 1\n",
    "        d = d + 1\n",
    "    l[:] = l[: i] + temp\n",
    "    return l\n",
    "\n",
    "l = []\n",
    "n = int(input(\"Enter n : \"))\n",
    "\n",
    "for i in range(0,n):\n",
    "    l.append(int(input()))\n",
    "\n",
    "print(\"Array after left rotation is: \", end=' ')\n",
    "print(rotArr(l, len(l), 2))"
   ]
  },
  {
   "cell_type": "markdown",
   "id": "b8e05ba5",
   "metadata": {},
   "source": [
    "# 4. Write a Python Program to Split the array and add the first part to the end?"
   ]
  },
  {
   "cell_type": "code",
   "execution_count": 17,
   "id": "2bdabcf9",
   "metadata": {},
   "outputs": [
    {
     "name": "stdout",
     "output_type": "stream",
     "text": [
      "4 5 6 7 2 3 "
     ]
    }
   ],
   "source": [
    "def splitArr(arr, n, k): \n",
    "    for i in range(0, k): \n",
    "        x = arr[0]\n",
    "        for j in range(0, n-1):\n",
    "            arr[j] = arr[j + 1]\n",
    "          \n",
    "        arr[n-1] = x\n",
    "          \n",
    "arr = [2, 3, 4, 5, 6, 7]\n",
    "n = len(arr)\n",
    "position = 2\n",
    "  \n",
    "splitArr(arr, n, position)\n",
    "  \n",
    "for i in range(0, n): \n",
    "    print(arr[i], end = ' ')"
   ]
  },
  {
   "cell_type": "markdown",
   "id": "ca322afc",
   "metadata": {},
   "source": [
    "# 5.\tWrite a Python Program to check if given array is Monotonic?"
   ]
  },
  {
   "cell_type": "code",
   "execution_count": 20,
   "id": "006311e5",
   "metadata": {},
   "outputs": [
    {
     "name": "stdout",
     "output_type": "stream",
     "text": [
      "True\n"
     ]
    }
   ],
   "source": [
    "def monotonic(A):\n",
    "    x, y = [], []\n",
    "    x.extend(A)\n",
    "    y.extend(A)\n",
    "    x.sort()\n",
    "    y.sort(reverse=True)\n",
    "    if(x == A or y == A):\n",
    "        return True\n",
    "    return False\n",
    "\n",
    "A = [10, 9, 6, 6]\n",
    "print(monotonic(A))"
   ]
  },
  {
   "cell_type": "code",
   "execution_count": null,
   "id": "c08ea71a",
   "metadata": {},
   "outputs": [],
   "source": []
  }
 ],
 "metadata": {
  "kernelspec": {
   "display_name": "Python 3 (ipykernel)",
   "language": "python",
   "name": "python3"
  },
  "language_info": {
   "codemirror_mode": {
    "name": "ipython",
    "version": 3
   },
   "file_extension": ".py",
   "mimetype": "text/x-python",
   "name": "python",
   "nbconvert_exporter": "python",
   "pygments_lexer": "ipython3",
   "version": "3.9.12"
  }
 },
 "nbformat": 4,
 "nbformat_minor": 5
}
