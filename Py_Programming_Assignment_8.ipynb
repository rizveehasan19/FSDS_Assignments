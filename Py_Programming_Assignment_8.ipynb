{
 "cells": [
  {
   "cell_type": "markdown",
   "id": "2814fc6a",
   "metadata": {},
   "source": [
    "# 1.\tWrite a Python Program to Add Two Matrices?"
   ]
  },
  {
   "cell_type": "code",
   "execution_count": 19,
   "id": "7a5342bc",
   "metadata": {},
   "outputs": [
    {
     "name": "stdout",
     "output_type": "stream",
     "text": [
      "[14, 13, 18]\n",
      "[14, 11, 10]\n",
      "[7, 11, 19]\n"
     ]
    }
   ],
   "source": [
    "A = [[9,5,17],\n",
    "    [8,4,7],\n",
    "    [3,6,10]]\n",
    "\n",
    "B = [[5,8,1],\n",
    "    [6,7,3],\n",
    "    [4,5,9]]\n",
    "\n",
    "OP = [[0,0,0],\n",
    "     [0,0,0],\n",
    "     [0,0,0]]\n",
    "\n",
    "for i in range(len(A)):\n",
    "    for j in range(len(A[0])):\n",
    "        OP[i][j] = A[i][j] + B[i][j]\n",
    "    \n",
    "for k in OP:\n",
    "    print (k)"
   ]
  },
  {
   "cell_type": "markdown",
   "id": "fa112cec",
   "metadata": {},
   "source": [
    "# 2.\tWrite a Python Program to Multiply Two Matrices?"
   ]
  },
  {
   "cell_type": "code",
   "execution_count": 20,
   "id": "4fa5fa20",
   "metadata": {},
   "outputs": [
    {
     "name": "stdout",
     "output_type": "stream",
     "text": [
      "[143, 192, 177]\n",
      "[92, 127, 83]\n",
      "[91, 116, 111]\n"
     ]
    }
   ],
   "source": [
    "A = [[9,5,17],\n",
    "    [8,4,7],\n",
    "    [3,6,10]]\n",
    "\n",
    "B = [[5,8,1],\n",
    "    [6,7,3],\n",
    "    [4,5,9]]\n",
    "\n",
    "OP = [[0,0,0],\n",
    "     [0,0,0],\n",
    "     [0,0,0]]\n",
    "\n",
    "for i in range(len(A)): #iterating over the rows of A\n",
    "    for j in range(len(B[0])): #iterating over the columns of B\n",
    "        for k in range(len(B)): #ietrating over the rows of B\n",
    "            OP[i][j] += A[i][k] * B[k][j]\n",
    "\n",
    "for l in OP:\n",
    "    print(l)"
   ]
  },
  {
   "cell_type": "markdown",
   "id": "e1a9576e",
   "metadata": {},
   "source": [
    "# 3.\tWrite a Python Program to Transpose a Matrix?"
   ]
  },
  {
   "cell_type": "code",
   "execution_count": 21,
   "id": "915405d1",
   "metadata": {},
   "outputs": [
    {
     "name": "stdout",
     "output_type": "stream",
     "text": [
      "[9, 8]\n",
      "[5, 4]\n",
      "[17, 7]\n"
     ]
    }
   ],
   "source": [
    "A = [[9,5,17],\n",
    "    [8,4,7]]\n",
    "\n",
    "T = [[0,0],\n",
    "     [0,0],\n",
    "     [0,0]]\n",
    "\n",
    "for i in range(len(A)):\n",
    "    for j in range(len(A[0])):\n",
    "        T[j][i] = A[i][j]\n",
    "for k in T:\n",
    "    print(k)"
   ]
  },
  {
   "cell_type": "markdown",
   "id": "b8e05ba5",
   "metadata": {},
   "source": [
    "# 4.\tWrite a Python Program to Sort Words in Alphabetic Order?"
   ]
  },
  {
   "cell_type": "code",
   "execution_count": 22,
   "id": "90d8270a",
   "metadata": {},
   "outputs": [
    {
     "name": "stdout",
     "output_type": "stream",
     "text": [
      "The sorted words are: None\n",
      "brown\n",
      "dog\n",
      "fox\n",
      "jumps\n",
      "lazy\n",
      "over\n",
      "quick\n",
      "the\n",
      "the\n"
     ]
    }
   ],
   "source": [
    "my_str = \"the Quick brown fox jumPs over the lazY Dog\"\n",
    "\n",
    "# breaking down the string into a list of words\n",
    "words = [word.lower() for word in my_str.split()]\n",
    "\n",
    "print(\"The sorted words are:\",words.sort())\n",
    "for word in words:\n",
    "   print(word)"
   ]
  },
  {
   "cell_type": "markdown",
   "id": "ca322afc",
   "metadata": {},
   "source": [
    "# 5.\tWrite a Python Program to Remove Punctuation From a String?"
   ]
  },
  {
   "cell_type": "code",
   "execution_count": 23,
   "id": "c08ea71a",
   "metadata": {},
   "outputs": [
    {
     "name": "stdout",
     "output_type": "stream",
     "text": [
      "Hello he said and went\n"
     ]
    }
   ],
   "source": [
    "punctuations = '''!()-[]{};:'\"\\,<>./?@#$%^&*_~'''\n",
    "my_str = \"Hello!!!, he said ---and went.\"\n",
    "\n",
    "no_punct = \"\"\n",
    "\n",
    "for c in my_str:\n",
    "   if c not in punctuations:\n",
    "       no_punct = no_punct + c\n",
    "\n",
    "# display the unpunctuated string\n",
    "print(no_punct)"
   ]
  }
 ],
 "metadata": {
  "kernelspec": {
   "display_name": "Python 3 (ipykernel)",
   "language": "python",
   "name": "python3"
  },
  "language_info": {
   "codemirror_mode": {
    "name": "ipython",
    "version": 3
   },
   "file_extension": ".py",
   "mimetype": "text/x-python",
   "name": "python",
   "nbconvert_exporter": "python",
   "pygments_lexer": "ipython3",
   "version": "3.9.12"
  }
 },
 "nbformat": 4,
 "nbformat_minor": 5
}
