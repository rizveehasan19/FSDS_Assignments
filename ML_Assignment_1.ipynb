{
 "cells": [
  {
   "cell_type": "markdown",
   "id": "d0d9440c",
   "metadata": {},
   "source": [
    "# 1. What does one mean by the term \"machine learning\"?"
   ]
  },
  {
   "cell_type": "markdown",
   "id": "7f5b4648",
   "metadata": {},
   "source": [
    "Mchine learning is a field of study which deals with building algorithms and optimizing them to automate processes. It focuses on imitating the way humans learn."
   ]
  },
  {
   "cell_type": "markdown",
   "id": "c06c1864",
   "metadata": {},
   "source": [
    "# 2.Can you think of 4 distinct types of issues where it shines?"
   ]
  },
  {
   "cell_type": "markdown",
   "id": "10e9b54e",
   "metadata": {},
   "source": [
    "Machine learning is great for, \n",
    "\n",
    "   1. Problems with a long list of rules whose solution requires a great deal of work,\n",
    "   2. Complex problems that are hard to get a solution approaching traditionally, \n",
    "   3. Fluctuating environments,\n",
    "   4. Getting insights about complex problems and large data."
   ]
  },
  {
   "cell_type": "markdown",
   "id": "b30478a1",
   "metadata": {},
   "source": [
    "# 3.What is a labeled training set, and how does it work?"
   ]
  },
  {
   "cell_type": "markdown",
   "id": "decfea1f",
   "metadata": {},
   "source": [
    "Labeled training set is a set of training data which has a solution to the problem or assigned task. \n",
    "\n",
    "  Firstly, The training set is used to train the algorithm. \n",
    "  Secondly, you use the trained model on the test set to predict the response variable values that are already known. \n",
    "  The final step is to compare the predicted responses against the actual (observed) responses to see how close they are."
   ]
  },
  {
   "cell_type": "markdown",
   "id": "128c506c",
   "metadata": {},
   "source": [
    "# 4.What are the two most important tasks that are supervised?"
   ]
  },
  {
   "cell_type": "markdown",
   "id": "b6ca9f07",
   "metadata": {},
   "source": [
    "Classification and Regression are the two most important supervised tasks."
   ]
  },
  {
   "cell_type": "markdown",
   "id": "86137215",
   "metadata": {},
   "source": [
    "# 5.Can you think of four examples of unsupervised tasks"
   ]
  },
  {
   "cell_type": "markdown",
   "id": "2d79e9a3",
   "metadata": {},
   "source": [
    "Clustering, Visualization, Dimensionality reduction and Association rule learning are examples of four unsupervised tasks."
   ]
  },
  {
   "cell_type": "markdown",
   "id": "1e0c402c",
   "metadata": {},
   "source": [
    "# 6.State the machine learning model that would be best to make a robot walk through various unfamiliar terrains?"
   ]
  },
  {
   "cell_type": "markdown",
   "id": "cc000338",
   "metadata": {},
   "source": [
    "Reinforced Learning is the best Machine Learning algorithm to make a robot walk through various unfamiliar terrain. Here the robot can learn from the response of the terrain to optimize itself."
   ]
  },
  {
   "cell_type": "markdown",
   "id": "65d8a848",
   "metadata": {},
   "source": [
    "# 7.Which algorithm will you use to divide your customers into different groups?"
   ]
  },
  {
   "cell_type": "markdown",
   "id": "56238613",
   "metadata": {},
   "source": [
    "I will use Supervised learning if the groups have known labels. Otherwise I will use unsupervised learning."
   ]
  },
  {
   "cell_type": "markdown",
   "id": "f29e3b71",
   "metadata": {},
   "source": [
    "# 8.Will you consider the problem of spam detection to be a supervised or unsupervised learning problem?"
   ]
  },
  {
   "cell_type": "markdown",
   "id": "0cdf32f6",
   "metadata": {},
   "source": [
    "I will consider spam detection as a supervised learning problem because the labels are known (spam or no spam) here."
   ]
  },
  {
   "cell_type": "markdown",
   "id": "22a986c4",
   "metadata": {},
   "source": [
    "# 9.What is the concept of an online learning system?"
   ]
  },
  {
   "cell_type": "markdown",
   "id": "a214ee10",
   "metadata": {},
   "source": [
    "Online learning system is a learning system in which the machine learns as data is given in small streams continuously."
   ]
  },
  {
   "cell_type": "markdown",
   "id": "d05e4761",
   "metadata": {},
   "source": [
    "# 10.What is out-of-core learning, and how does it differ from core learning?"
   ]
  },
  {
   "cell_type": "markdown",
   "id": "cbdf87e8",
   "metadata": {},
   "source": [
    "Out-of-core learning system is a system that can handle data that doesn't fit into computer memory. It uses online learning system to feed data in small bits.\n",
    "Core learning system on the other hand, can only handle data which fits into computer memory."
   ]
  },
  {
   "cell_type": "markdown",
   "id": "cb6ff0ae",
   "metadata": {},
   "source": [
    "# 11.What kind of learning algorithm makes predictions using a similarity measure?"
   ]
  },
  {
   "cell_type": "markdown",
   "id": "d0d2f4ac",
   "metadata": {},
   "source": [
    "Learning algorithm that relies on a similarity measure to make predictions is instance-based algorithm."
   ]
  },
  {
   "cell_type": "markdown",
   "id": "1f605172",
   "metadata": {},
   "source": [
    "# 12.What's the difference between a model parameter and a hyperparameter in a learning algorithm?"
   ]
  },
  {
   "cell_type": "markdown",
   "id": "6f1438fe",
   "metadata": {},
   "source": [
    "Model parameter determines how a model will predict given a new instance; model usually has more than one parameter. \n",
    "    \n",
    "Hyperparameter on the other hand, is a parameter for the learning algorithm, not of a model."
   ]
  },
  {
   "cell_type": "markdown",
   "id": "c7cc5be4",
   "metadata": {},
   "source": [
    "# 13.What are the criteria that model-based learning algorithms look for? What is the most popular method they use to achieve success? What method do they use to make predictions?"
   ]
  },
  {
   "cell_type": "markdown",
   "id": "66a5ad73",
   "metadata": {},
   "source": [
    "Model based learning algorithms look for the optimal value of parameters in a model that will give the best results for the new instances. \n",
    "Using cost function or similar to determine what the parameter value has to be in order to minimize the function is the most populat method. \n",
    "The model makes prediction by using the value of the new instance and the parameters in its function."
   ]
  },
  {
   "cell_type": "markdown",
   "id": "da759d68",
   "metadata": {},
   "source": [
    "# 14.Can you name four of the most important Machine Learning challenges?"
   ]
  },
  {
   "cell_type": "markdown",
   "id": "0006dc50",
   "metadata": {},
   "source": [
    "Four main challenges in Machine Learning include: \n",
    "    \n",
    "  1. Overfitting the data (using a model too complicated)\n",
    "  2. Underfitting the data (using a simple model)\n",
    "  3. Lacking in data\n",
    "  4. Nonrepresentative data."
   ]
  },
  {
   "cell_type": "markdown",
   "id": "3171aab8",
   "metadata": {},
   "source": [
    "# 15.What happens if the model performs well on the training data but fails to generalize the results to new situations? Can you think of three different options?"
   ]
  },
  {
   "cell_type": "markdown",
   "id": "008b524d",
   "metadata": {},
   "source": [
    "If the model performs fails to generalize the results to new situations, then it has overfit on the training data. \n",
    "    \n",
    "       To solve this, we can do any of the following three: \n",
    "         1. Get more data \n",
    "         2. Implement a simpler model \n",
    "         3. Eliminate outliers from the existing data set."
   ]
  },
  {
   "cell_type": "markdown",
   "id": "4f97f361",
   "metadata": {},
   "source": [
    "# 16.What exactly is a test set, and why would you need one?"
   ]
  },
  {
   "cell_type": "markdown",
   "id": "e5b76dfe",
   "metadata": {},
   "source": [
    "Test set is a set that is used to test a model (fit using training data) to see how it performs. \n",
    "Test set is necessary so that one can determine how good (or bad) the model performs."
   ]
  },
  {
   "cell_type": "markdown",
   "id": "b760aae4",
   "metadata": {},
   "source": [
    "# 17.What is a validation set's purpose?"
   ]
  },
  {
   "cell_type": "markdown",
   "id": "6b936758",
   "metadata": {},
   "source": [
    "Validation set is a set used to compare between different training models."
   ]
  },
  {
   "cell_type": "markdown",
   "id": "84438b40",
   "metadata": {},
   "source": [
    "# 18.What precisely is the train-dev kit, when will you need it, how do you put it to use?"
   ]
  },
  {
   "cell_type": "markdown",
   "id": "495221be",
   "metadata": {},
   "source": [
    "train-dev kit ranks the models in term of their accuracy and helps us decide which model to proceed further with.\n",
    "     We will need it at the beginning of the analysis so that we can start going forward with the best model available.\n",
    "     We put it to use first by splitting the data into test set and training set."
   ]
  },
  {
   "cell_type": "markdown",
   "id": "3e4c4961",
   "metadata": {},
   "source": [
    "# 19.What could go wrong if you use the test set to tune hyperparameters?"
   ]
  },
  {
   "cell_type": "markdown",
   "id": "2c51b18c",
   "metadata": {},
   "source": [
    "If I use the test sets to tune hyperparameters, then it may not perform well on the out-of-sample data because the model is tuned just for that specific set."
   ]
  }
 ],
 "metadata": {
  "kernelspec": {
   "display_name": "Python 3 (ipykernel)",
   "language": "python",
   "name": "python3"
  },
  "language_info": {
   "codemirror_mode": {
    "name": "ipython",
    "version": 3
   },
   "file_extension": ".py",
   "mimetype": "text/x-python",
   "name": "python",
   "nbconvert_exporter": "python",
   "pygments_lexer": "ipython3",
   "version": "3.9.12"
  }
 },
 "nbformat": 4,
 "nbformat_minor": 5
}
