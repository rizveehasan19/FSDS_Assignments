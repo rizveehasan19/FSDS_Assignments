{
 "cells": [
  {
   "cell_type": "markdown",
   "id": "b2745e25",
   "metadata": {},
   "source": [
    "# 1.\tWrite a Python program to check if the given number is a Disarium Number?"
   ]
  },
  {
   "cell_type": "code",
   "execution_count": 24,
   "id": "aae71fd8",
   "metadata": {},
   "outputs": [
    {
     "name": "stdout",
     "output_type": "stream",
     "text": [
      "25\n",
      "\n",
      "Is 25 is Disarium number? False\n"
     ]
    }
   ],
   "source": [
    "def is_disarium(num):\n",
    "    temp = 0\n",
    "    for i in range(len(str(num))):\n",
    "        temp += int(str(num)[i]) ** (i + 1)\n",
    "    return temp == num\n",
    "\n",
    "num = int(input())\n",
    "print(\"\\nIs\",num,\"is Disarium number?\",is_disarium(num))"
   ]
  },
  {
   "cell_type": "markdown",
   "id": "8df7d913",
   "metadata": {},
   "source": [
    "# 2.\tWrite a Python program to print all disarium numbers between 1 to 100?"
   ]
  },
  {
   "cell_type": "code",
   "execution_count": 25,
   "id": "d0450a72",
   "metadata": {},
   "outputs": [
    {
     "name": "stdout",
     "output_type": "stream",
     "text": [
      "The disarium numbers between 1 and 100 are : \n",
      "1\n",
      "2\n",
      "3\n",
      "4\n",
      "5\n",
      "6\n",
      "7\n",
      "8\n",
      "9\n",
      "89\n"
     ]
    }
   ],
   "source": [
    "def length_calculation(my_val):\n",
    "   len_val = 0\n",
    "   while(my_val != 0):\n",
    "      len_val = len_val + 1\n",
    "      my_val = my_val//10\n",
    "   return len_val\n",
    "def digit_sum(my_num):\n",
    "   remaining = sum_val = 0\n",
    "   len_fun = length_calculation(my_num)\n",
    "   while(my_num > 0):\n",
    "      remaining = my_num%10\n",
    "      sum_val = sum_val + (remaining**len_fun)\n",
    "      my_num = my_num//10\n",
    "      len_fun = len_fun - 1\n",
    "   return sum_val\n",
    "ini_result = 0\n",
    "print(\"The disarium numbers between 1 and 100 are : \")\n",
    "for i in range(1, 101):\n",
    "   ini_result = digit_sum(i)\n",
    "   if(ini_result == i):\n",
    "      print(i)"
   ]
  },
  {
   "cell_type": "markdown",
   "id": "a4e830cd",
   "metadata": {},
   "source": [
    "# 3.\tWrite a Python program to check if the given number is Happy Number?"
   ]
  },
  {
   "cell_type": "code",
   "execution_count": 27,
   "id": "aed33f7d",
   "metadata": {},
   "outputs": [
    {
     "name": "stdout",
     "output_type": "stream",
     "text": [
      "28 is a happy number\n"
     ]
    }
   ],
   "source": [
    "def isHappyNumber(num):    \n",
    "    rem = sum = 0;        \n",
    "    #Calculates the sum of squares of digits    \n",
    "    while(num > 0):    \n",
    "        rem = num%10;    \n",
    "        sum = sum + (rem*rem);    \n",
    "        num = num//10;    \n",
    "    return sum;     \n",
    "num = 28;    \n",
    "result = num;    \n",
    "while(result != 1 and result != 4):    \n",
    "    result = isHappyNumber(result);    \n",
    "     \n",
    "#Happy number always ends with 1    \n",
    "if(result == 1):    \n",
    "    print(str(num) + \" is a happy number\");    \n",
    "#Unhappy number ends in a cycle of repeating numbers which contain 4    \n",
    "elif(result == 4):    \n",
    "    print(str(num) + \" is not a happy number\");   "
   ]
  },
  {
   "cell_type": "markdown",
   "id": "da10c52e",
   "metadata": {},
   "source": [
    "# 4.\tWrite a Python program to print all happy numbers between 1 and 100?"
   ]
  },
  {
   "cell_type": "code",
   "execution_count": 28,
   "id": "1c47bbce",
   "metadata": {},
   "outputs": [
    {
     "name": "stdout",
     "output_type": "stream",
     "text": [
      "List of happy numbers between 1 and 100: \n",
      "1\n",
      " \n",
      "7\n",
      " \n",
      "10\n",
      " \n",
      "13\n",
      " \n",
      "19\n",
      " \n",
      "23\n",
      " \n",
      "28\n",
      " \n",
      "31\n",
      " \n",
      "32\n",
      " \n",
      "44\n",
      " \n",
      "49\n",
      " \n",
      "68\n",
      " \n",
      "70\n",
      " \n",
      "79\n",
      " \n",
      "82\n",
      " \n",
      "86\n",
      " \n",
      "91\n",
      " \n",
      "94\n",
      " \n",
      "97\n",
      " \n",
      "100\n",
      " \n"
     ]
    }
   ],
   "source": [
    "def isHappyNumber(num):    \n",
    "    rem = sum = 0;    \n",
    "        \n",
    "    #Calculates the sum of squares of digits    \n",
    "    while(num > 0):    \n",
    "        rem = num%10;    \n",
    "        sum = sum + (rem*rem);    \n",
    "        num = num//10;    \n",
    "    return sum;    \n",
    "            \n",
    "#Displays all happy numbers between 1 and 100    \n",
    "print(\"List of happy numbers between 1 and 100: \");    \n",
    "for i in range(1, 101):    \n",
    "    result = i;    \n",
    "        \n",
    "    #Happy number always ends with 1 and     \n",
    "    #unhappy number ends in a cycle of repeating numbers which contains 4    \n",
    "    while(result != 1 and result != 4):    \n",
    "        result = isHappyNumber(result);    \n",
    "        \n",
    "    if(result == 1):    \n",
    "        print(i),    \n",
    "        print(\" \"),    "
   ]
  },
  {
   "cell_type": "markdown",
   "id": "dfffd48a",
   "metadata": {},
   "source": [
    "# 5.\tWrite a Python program to determine whether the given number is a Harshad Number?"
   ]
  },
  {
   "cell_type": "code",
   "execution_count": 29,
   "id": "399f0291",
   "metadata": {},
   "outputs": [
    {
     "name": "stdout",
     "output_type": "stream",
     "text": [
      "156 is a harshad number\n"
     ]
    }
   ],
   "source": [
    "num = 156;    \n",
    "rem = sum = 0;    \n",
    "     \n",
    "#Make a copy of num and store it in variable n    \n",
    "n = num;    \n",
    "     \n",
    "#Calculates sum of digits    \n",
    "while(num > 0):    \n",
    "    rem = num%10;    \n",
    "    sum = sum + rem;    \n",
    "    num = num//10;    \n",
    "     \n",
    "#Checks whether the number is divisible by the sum of digits    \n",
    "if(n%sum == 0):    \n",
    "    print(str(n) + \" is a harshad number\");    \n",
    "else:    \n",
    "    print(str(n) + \" is not a harshad number\"); "
   ]
  },
  {
   "cell_type": "markdown",
   "id": "5c6e976f",
   "metadata": {},
   "source": [
    "# 6.\tWrite a Python program to print all pronic numbers between 1 and 100?"
   ]
  },
  {
   "cell_type": "code",
   "execution_count": 30,
   "id": "38215155",
   "metadata": {},
   "outputs": [
    {
     "name": "stdout",
     "output_type": "stream",
     "text": [
      "Pronic numbers between 1 and 100: \n",
      "2\n",
      " \n",
      "6\n",
      " \n",
      "12\n",
      " \n",
      "20\n",
      " \n",
      "30\n",
      " \n",
      "42\n",
      " \n",
      "56\n",
      " \n",
      "72\n",
      " \n",
      "90\n",
      " \n"
     ]
    }
   ],
   "source": [
    "def isPronicNumber(num):    \n",
    "    flag = False;    \n",
    "        \n",
    "    for j in range(1, num+1):    \n",
    "        #Checks for pronic number by multiplying consecutive numbers    \n",
    "        if((j*(j+1)) == num):    \n",
    "            flag = True;    \n",
    "            break;    \n",
    "    return flag;    \n",
    "     \n",
    "#Displays pronic numbers between 1 and 100    \n",
    "print(\"Pronic numbers between 1 and 100: \");    \n",
    "for i in range(1, 101):    \n",
    "    if(isPronicNumber(i)):    \n",
    "        print(i),    \n",
    "        print(\" \"),    "
   ]
  }
 ],
 "metadata": {
  "kernelspec": {
   "display_name": "Python 3 (ipykernel)",
   "language": "python",
   "name": "python3"
  },
  "language_info": {
   "codemirror_mode": {
    "name": "ipython",
    "version": 3
   },
   "file_extension": ".py",
   "mimetype": "text/x-python",
   "name": "python",
   "nbconvert_exporter": "python",
   "pygments_lexer": "ipython3",
   "version": "3.9.12"
  }
 },
 "nbformat": 4,
 "nbformat_minor": 5
}
