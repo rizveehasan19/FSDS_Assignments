{
 "cells": [
  {
   "cell_type": "markdown",
   "id": "434cecba",
   "metadata": {},
   "source": [
    "# 1.\tWrite a Python Program to Find LCM?"
   ]
  },
  {
   "cell_type": "code",
   "execution_count": 17,
   "id": "70c38c6f",
   "metadata": {},
   "outputs": [
    {
     "name": "stdout",
     "output_type": "stream",
     "text": [
      "Enter : 10\n",
      "Enter : 20\n",
      "LCM of 10 & 20 is 20\n"
     ]
    }
   ],
   "source": [
    "n1 = int(input(\"Enter : \"))\n",
    "n2 = int(input(\"Enter : \"))\n",
    "\n",
    "def cal_lcm(x,y):\n",
    "    greater = max(x,y)\n",
    "    while(True):\n",
    "        if((greater%x==0) and (greater%y==0)):\n",
    "            lcm = greater\n",
    "            break\n",
    "        greater += 1\n",
    "    return lcm\n",
    "print(\"LCM of\",n1,\"&\",n2,\"is\",cal_lcm(n1,n2))"
   ]
  },
  {
   "cell_type": "markdown",
   "id": "efbc12dd",
   "metadata": {},
   "source": [
    "# 2.\tWrite a Python Program to Find HCF?"
   ]
  },
  {
   "cell_type": "code",
   "execution_count": 22,
   "id": "1b91fc45",
   "metadata": {},
   "outputs": [
    {
     "name": "stdout",
     "output_type": "stream",
     "text": [
      "Enter : 98\n",
      "Enter : 56\n",
      "HCF of 98 & 56 is 14\n"
     ]
    }
   ],
   "source": [
    "n1 = int(input(\"Enter : \"))\n",
    "n2 = int(input(\"Enter : \"))\n",
    "\n",
    "def cal_hcf(x,y):\n",
    "    smaller = min(x,y)\n",
    "    while smaller:\n",
    "        if x % smaller==0 and y % smaller==0:\n",
    "            hcf = smaller\n",
    "            break\n",
    "        smaller -= 1\n",
    "    return hcf\n",
    "print(\"HCF of\",n1,\"&\",n2,\"is\",cal_hcf(n1,n2))"
   ]
  },
  {
   "cell_type": "markdown",
   "id": "4a823abf",
   "metadata": {},
   "source": [
    "# 3.\tWrite a Python Program to Convert Decimal to Binary, Octal and Hexadecimal?"
   ]
  },
  {
   "cell_type": "code",
   "execution_count": 31,
   "id": "841b0946",
   "metadata": {},
   "outputs": [
    {
     "name": "stdout",
     "output_type": "stream",
     "text": [
      " Enter the Decimal Number: 10\n",
      "The given decimal number 10 in Binary number is:  0b1010\n",
      "The given decimal number 10 in Octal number is:  0o12\n",
      "The given decimal number 10  in Hexadecimal number is:  0xa\n"
     ]
    }
   ],
   "source": [
    "# First, we will define the function to convert decimal to binary  \n",
    "def decimal_into_binary(decimal_1):  \n",
    "    decimal = int(decimal_1)  \n",
    "    \n",
    "    # then, print the equivalent decimal  \n",
    "    print (\"The given decimal number\", decimal, \"in Binary number is: \", bin(decimal))  \n",
    "# we will define the function to convert decimal to octal  \n",
    "def decimal_into_octal(decimal_1):  \n",
    "    decimal = int(decimal_1)  \n",
    "    \n",
    "    # Then, print the equivalent decimal  \n",
    "    print (\"The given decimal number\", decimal, \"in Octal number is: \", oct(decimal))  \n",
    "# we will define the function to convert decimal to hexadecimal  \n",
    "def decimal_into_hexadecimal(decimal_1):  \n",
    "    decimal = int(decimal_1)  \n",
    "    \n",
    "    # Then, print the equivalent decimal  \n",
    "    print (\"The given decimal number\", decimal, \" in Hexadecimal number is: \", hex(decimal))  \n",
    "    \n",
    "# Driver program  \n",
    "decimal_1 = int (input (\" Enter the Decimal Number: \"))  \n",
    "decimal_into_binary(decimal_1)  \n",
    "decimal_into_octal(decimal_1)  \n",
    "decimal_into_hexadecimal(decimal_1)  "
   ]
  },
  {
   "cell_type": "markdown",
   "id": "144247e5",
   "metadata": {},
   "source": [
    "# 4.\tWrite a Python Program To Find ASCII value of a character?"
   ]
  },
  {
   "cell_type": "code",
   "execution_count": 33,
   "id": "ec9cc243",
   "metadata": {},
   "outputs": [
    {
     "name": "stdout",
     "output_type": "stream",
     "text": [
      "The ASCII value of 'h' is 104\n"
     ]
    }
   ],
   "source": [
    "c = 'h'\n",
    "# print the ASCII value of assigned character in c\n",
    "print(\"The ASCII value of '\" + c + \"' is\", ord(c))"
   ]
  },
  {
   "cell_type": "markdown",
   "id": "e1971d09",
   "metadata": {},
   "source": [
    "# 5.\tWrite a Python Program to Make a Simple Calculator with 4 basic mathematical operations?"
   ]
  },
  {
   "cell_type": "code",
   "execution_count": 34,
   "id": "eeed02c8",
   "metadata": {},
   "outputs": [
    {
     "name": "stdout",
     "output_type": "stream",
     "text": [
      "Please select the operation.\n",
      "a. Add\n",
      "b. Subtract\n",
      "c. Multiply\n",
      "d. Divide\n",
      "Please enter choice (a/ b/ c/ d): d\n",
      "Please enter the first number: 10\n",
      "Please enter the second number: 5\n",
      "10  /  5  =  2.0\n"
     ]
    }
   ],
   "source": [
    "def add(P, Q):    \n",
    "   # This function is used for adding two numbers   \n",
    "   return P + Q   \n",
    "def subtract(P, Q):   \n",
    "   # This function is used for subtracting two numbers   \n",
    "   return P - Q   \n",
    "def multiply(P, Q):   \n",
    "   # This function is used for multiplying two numbers   \n",
    "   return P * Q   \n",
    "def divide(P, Q):   \n",
    "   # This function is used for dividing two numbers    \n",
    "   return P / Q    \n",
    "# Now we will take inputs from the user    \n",
    "print (\"Please select the operation.\")    \n",
    "print (\"a. Add\")    \n",
    "print (\"b. Subtract\")    \n",
    "print (\"c. Multiply\")    \n",
    "print (\"d. Divide\")    \n",
    "    \n",
    "choice = input(\"Please enter choice (a/ b/ c/ d): \")    \n",
    "    \n",
    "num_1 = int (input (\"Please enter the first number: \"))    \n",
    "num_2 = int (input (\"Please enter the second number: \"))    \n",
    "    \n",
    "if choice == 'a':    \n",
    "   print (num_1, \" + \", num_2, \" = \", add(num_1, num_2))    \n",
    "    \n",
    "elif choice == 'b':    \n",
    "   print (num_1, \" - \", num_2, \" = \", subtract(num_1, num_2))    \n",
    "    \n",
    "elif choice == 'c':    \n",
    "   print (num1, \" * \", num2, \" = \", multiply(num1, num2))    \n",
    "elif choice == 'd':    \n",
    "   print (num_1, \" / \", num_2, \" = \", divide(num_1, num_2))    \n",
    "else:    \n",
    "   print (\"This is an invalid input\")    "
   ]
  }
 ],
 "metadata": {
  "kernelspec": {
   "display_name": "Python 3 (ipykernel)",
   "language": "python",
   "name": "python3"
  },
  "language_info": {
   "codemirror_mode": {
    "name": "ipython",
    "version": 3
   },
   "file_extension": ".py",
   "mimetype": "text/x-python",
   "name": "python",
   "nbconvert_exporter": "python",
   "pygments_lexer": "ipython3",
   "version": "3.9.12"
  }
 },
 "nbformat": 4,
 "nbformat_minor": 5
}
