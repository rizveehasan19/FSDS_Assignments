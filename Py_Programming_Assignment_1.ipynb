{
  "nbformat": 4,
  "nbformat_minor": 0,
  "metadata": {
    "colab": {
      "name": "Programming_Assignment_1",
      "provenance": []
    },
    "kernelspec": {
      "name": "python3",
      "display_name": "Python 3"
    },
    "language_info": {
      "name": "python"
    }
  },
  "cells": [
    {
      "cell_type": "markdown",
      "source": [
        "1.\tWrite a Python program to print \"Hello Python\"?"
      ],
      "metadata": {
        "id": "MIhL-uNntLFC"
      }
    },
    {
      "cell_type": "code",
      "source": [
        "print(\"Hello Python\")"
      ],
      "metadata": {
        "colab": {
          "base_uri": "https://localhost:8080/"
        },
        "id": "ixQ5dgTktSHl",
        "outputId": "a3124ea0-aa09-46e4-ef2a-7b15a118faef"
      },
      "execution_count": 3,
      "outputs": [
        {
          "output_type": "stream",
          "name": "stdout",
          "text": [
            "Hello Python\n"
          ]
        }
      ]
    },
    {
      "cell_type": "markdown",
      "source": [
        "2.\tWrite a Python program to do arithmetical operations addition and division?"
      ],
      "metadata": {
        "id": "6W1saj-Xtl9S"
      }
    },
    {
      "cell_type": "code",
      "source": [
        "Sum = 25+75\n",
        "\n",
        "Quotient = 75/3\n",
        "\n",
        "Sum, Quotient"
      ],
      "metadata": {
        "colab": {
          "base_uri": "https://localhost:8080/"
        },
        "id": "JtS2LgxRtqCY",
        "outputId": "8055b0c0-620f-456a-f3d7-1d7e2c9722bd"
      },
      "execution_count": 10,
      "outputs": [
        {
          "output_type": "execute_result",
          "data": {
            "text/plain": [
              "(100, 25.0)"
            ]
          },
          "metadata": {},
          "execution_count": 10
        }
      ]
    },
    {
      "cell_type": "markdown",
      "source": [
        "3.\tWrite a Python program to find the area of a triangle?"
      ],
      "metadata": {
        "id": "NafzmUPIt_er"
      }
    },
    {
      "cell_type": "code",
      "source": [
        "# Assigning the values of the sides of the triangle,\n",
        "a  = float(input(\"1st Side: \"))\n",
        "b  = float(input(\"2nd Side: \"))\n",
        "c  = float(input(\"3rd Side: \"))\n",
        "\n",
        "# Calculating the semi-parameter, s\n",
        "s = (a+b+c)/2\n",
        "\n",
        "# Finally, Calculating the area,\n",
        "Area = (s*(s-a)*(s-b)*(s-c))**0.5\n",
        "\n",
        "print(\"The Area is: %0.2f\" %Area)"
      ],
      "metadata": {
        "colab": {
          "base_uri": "https://localhost:8080/"
        },
        "id": "PIZl7vJXuFd5",
        "outputId": "b4ce665d-e7bf-465c-fe6c-1154ae8daa74"
      },
      "execution_count": 16,
      "outputs": [
        {
          "output_type": "stream",
          "name": "stdout",
          "text": [
            "1st Side: 2\n",
            "2nd Side: 3\n",
            "3rd Side: 4\n",
            "The Area is: 2.90\n"
          ]
        }
      ]
    },
    {
      "cell_type": "markdown",
      "source": [
        "4.\tWrite a Python program to swap two variables?"
      ],
      "metadata": {
        "id": "r5MWWh0BFlsR"
      }
    },
    {
      "cell_type": "code",
      "source": [
        "a, b = 10, 20\n",
        "print(\"Before swapping,  a = %d, b = %d\" %(a,b))\n",
        "\n",
        "a, b = b, a\n",
        "print(\"After swapping, a = %d, b = %d\" %(a, b))"
      ],
      "metadata": {
        "colab": {
          "base_uri": "https://localhost:8080/"
        },
        "id": "FEqPZevpFsiy",
        "outputId": "b94a4b78-280c-4b50-8f07-9b99f7e6598f"
      },
      "execution_count": 24,
      "outputs": [
        {
          "output_type": "stream",
          "name": "stdout",
          "text": [
            "Before swapping,  a = 10, b = 20\n",
            "After swapping, a = 20, b = 10\n"
          ]
        }
      ]
    },
    {
      "cell_type": "markdown",
      "source": [
        "5.\tWrite a Python program to generate a random number?"
      ],
      "metadata": {
        "id": "V9ze-UIxMGYv"
      }
    },
    {
      "cell_type": "code",
      "source": [
        "import random\n",
        "x = random.randint(0,1000)\n",
        "print(x)"
      ],
      "metadata": {
        "colab": {
          "base_uri": "https://localhost:8080/"
        },
        "id": "tET6eigSMOey",
        "outputId": "6dcc8c46-ecf2-47c5-e6dc-fe8bed862c83"
      },
      "execution_count": 25,
      "outputs": [
        {
          "output_type": "stream",
          "name": "stdout",
          "text": [
            "359\n"
          ]
        }
      ]
    }
  ]
}
